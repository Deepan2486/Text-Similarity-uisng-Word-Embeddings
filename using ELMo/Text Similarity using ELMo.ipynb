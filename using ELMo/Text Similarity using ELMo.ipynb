{
 "cells": [
  {
   "cell_type": "code",
   "execution_count": 2,
   "id": "b4d5bdcd",
   "metadata": {},
   "outputs": [],
   "source": [
    "import tensorflow_hub as hub\n",
    "import tensorflow as tf\n"
   ]
  },
  {
   "cell_type": "code",
   "execution_count": 3,
   "id": "ed7a146d",
   "metadata": {},
   "outputs": [],
   "source": [
    "from sklearn.metrics.pairwise import cosine_similarity\n",
    "\n"
   ]
  },
  {
   "cell_type": "code",
   "execution_count": 4,
   "id": "33ca0201",
   "metadata": {},
   "outputs": [],
   "source": [
    "elmo = hub.Module(\"https://tfhub.dev/google/elmo/2\", trainable=True)"
   ]
  },
  {
   "cell_type": "code",
   "execution_count": 27,
   "id": "fa5a58e4",
   "metadata": {},
   "outputs": [],
   "source": [
    "from nltk.tokenize import word_tokenize\n",
    "from nltk.tokenize import sent_tokenize\n",
    "import pandas as pd\n",
    "import numpy as np\n",
    "\n"
   ]
  },
  {
   "cell_type": "code",
   "execution_count": 6,
   "id": "0d27f556",
   "metadata": {},
   "outputs": [],
   "source": [
    "corpus1 = []\n",
    "\n",
    "with open ('doc1.txt') as f:\n",
    "    tokens = sent_tokenize(f.read())\n",
    "    for line in tokens:\n",
    "        corpus1.append(line)"
   ]
  },
  {
   "cell_type": "code",
   "execution_count": 7,
   "id": "0dff8eb8",
   "metadata": {},
   "outputs": [],
   "source": [
    "corpus2 = []\n",
    "\n",
    "with open ('doc2.txt') as f:\n",
    "    tokens = sent_tokenize(f.read())\n",
    "    for line in tokens:\n",
    "        corpus2.append(line)"
   ]
  },
  {
   "cell_type": "code",
   "execution_count": 8,
   "id": "41046526",
   "metadata": {},
   "outputs": [
    {
     "data": {
      "text/plain": [
       "['One of the most faithful and helpful animals on the earth is a dog.',\n",
       " 'Dogs consist of four feet for running and jumping.',\n",
       " 'They have two eyes, ears, and one tail, which makes them look beautiful.',\n",
       " 'The stunning look of a dog also consists of one major part that is sharp teeth.',\n",
       " 'Dogs can run very fast.',\n",
       " 'Thus, they can help you to exercise more.',\n",
       " 'They can eat large amounts of meat, milk, green vegetables, fruits, rice, fish, and many other things.',\n",
       " 'Yet, all the sweet items are harmful to the health of dogs.',\n",
       " 'Dogs are knowledgeable pets.',\n",
       " 'Thus, they keep a quick watch on the people at night.',\n",
       " 'Many military and police workers use trained dogs for catching thieves and criminals.',\n",
       " 'The smelling power of dogs is mighty and strong.',\n",
       " 'Thus, they can sense things from far after they smell them once.',\n",
       " 'Dogs consist of very friendly and over protecting nature.']"
      ]
     },
     "execution_count": 8,
     "metadata": {},
     "output_type": "execute_result"
    }
   ],
   "source": [
    "\n",
    "corpus1"
   ]
  },
  {
   "cell_type": "code",
   "execution_count": 9,
   "id": "570e4606",
   "metadata": {},
   "outputs": [
    {
     "data": {
      "text/plain": [
       "['A cat is a domestic animal but there are wild cats too.',\n",
       " 'Cats are found in various colours.',\n",
       " 'The eyes of the cat which are of gray colour shine at night.',\n",
       " 'A cat has sharp claws.',\n",
       " 'The food of the cat is rats, pigeons and birds.',\n",
       " 'She is fond of milk.',\n",
       " 'It can climb up a tree and can jump from one roof to the other.',\n",
       " 'When she mews the rats run away, and she also kills them.',\n",
       " 'In this way she keeps rats away from our house.',\n",
       " 'She has soft fur.',\n",
       " 'She gives birth to kittens once in a year.',\n",
       " 'She is very afraid of dogs.Cat is a wonderful domestic animal.',\n",
       " 'She is playful also.',\n",
       " 'But whenever she is put in trouble she becomes very dangerous.',\n",
       " 'It attacks even a man and kills him.',\n",
       " 'But on the whole we can say that a cat is a loving animal.']"
      ]
     },
     "execution_count": 9,
     "metadata": {},
     "output_type": "execute_result"
    }
   ],
   "source": [
    "corpus2"
   ]
  },
  {
   "cell_type": "code",
   "execution_count": 10,
   "id": "07a551f5",
   "metadata": {},
   "outputs": [],
   "source": [
    "def elmo_vectors(x):\n",
    "   \n",
    "  embeddings = elmo(x, signature=\"default\", as_dict=True)[\"elmo\"]\n",
    "    \n",
    "  with tf.Session() as sess:\n",
    "    sess.run(tf.global_variables_initializer())\n",
    "    sess.run(tf.tables_initializer())\n",
    "    return sess.run(tf.reduce_mean(embeddings,1))\n"
   ]
  },
  {
   "cell_type": "code",
   "execution_count": 11,
   "id": "0d78e0fa",
   "metadata": {},
   "outputs": [
    {
     "name": "stdout",
     "output_type": "stream",
     "text": [
      "14\n",
      "One of the most faithful and helpful animals on the earth is a dog.\n",
      "INFO:tensorflow:Saver not created because there are no variables in the graph to restore\n"
     ]
    },
    {
     "name": "stderr",
     "output_type": "stream",
     "text": [
      "INFO:tensorflow:Saver not created because there are no variables in the graph to restore\n"
     ]
    },
    {
     "name": "stdout",
     "output_type": "stream",
     "text": [
      "Dogs consist of four feet for running and jumping.\n",
      "INFO:tensorflow:Saver not created because there are no variables in the graph to restore\n"
     ]
    },
    {
     "name": "stderr",
     "output_type": "stream",
     "text": [
      "INFO:tensorflow:Saver not created because there are no variables in the graph to restore\n"
     ]
    },
    {
     "name": "stdout",
     "output_type": "stream",
     "text": [
      "They have two eyes, ears, and one tail, which makes them look beautiful.\n",
      "INFO:tensorflow:Saver not created because there are no variables in the graph to restore\n"
     ]
    },
    {
     "name": "stderr",
     "output_type": "stream",
     "text": [
      "INFO:tensorflow:Saver not created because there are no variables in the graph to restore\n"
     ]
    },
    {
     "name": "stdout",
     "output_type": "stream",
     "text": [
      "The stunning look of a dog also consists of one major part that is sharp teeth.\n",
      "INFO:tensorflow:Saver not created because there are no variables in the graph to restore\n"
     ]
    },
    {
     "name": "stderr",
     "output_type": "stream",
     "text": [
      "INFO:tensorflow:Saver not created because there are no variables in the graph to restore\n"
     ]
    },
    {
     "name": "stdout",
     "output_type": "stream",
     "text": [
      "Dogs can run very fast.\n",
      "INFO:tensorflow:Saver not created because there are no variables in the graph to restore\n"
     ]
    },
    {
     "name": "stderr",
     "output_type": "stream",
     "text": [
      "INFO:tensorflow:Saver not created because there are no variables in the graph to restore\n"
     ]
    },
    {
     "name": "stdout",
     "output_type": "stream",
     "text": [
      "Thus, they can help you to exercise more.\n",
      "INFO:tensorflow:Saver not created because there are no variables in the graph to restore\n"
     ]
    },
    {
     "name": "stderr",
     "output_type": "stream",
     "text": [
      "INFO:tensorflow:Saver not created because there are no variables in the graph to restore\n"
     ]
    },
    {
     "name": "stdout",
     "output_type": "stream",
     "text": [
      "They can eat large amounts of meat, milk, green vegetables, fruits, rice, fish, and many other things.\n",
      "INFO:tensorflow:Saver not created because there are no variables in the graph to restore\n"
     ]
    },
    {
     "name": "stderr",
     "output_type": "stream",
     "text": [
      "INFO:tensorflow:Saver not created because there are no variables in the graph to restore\n"
     ]
    },
    {
     "name": "stdout",
     "output_type": "stream",
     "text": [
      "Yet, all the sweet items are harmful to the health of dogs.\n",
      "INFO:tensorflow:Saver not created because there are no variables in the graph to restore\n"
     ]
    },
    {
     "name": "stderr",
     "output_type": "stream",
     "text": [
      "INFO:tensorflow:Saver not created because there are no variables in the graph to restore\n"
     ]
    },
    {
     "name": "stdout",
     "output_type": "stream",
     "text": [
      "Dogs are knowledgeable pets.\n",
      "INFO:tensorflow:Saver not created because there are no variables in the graph to restore\n"
     ]
    },
    {
     "name": "stderr",
     "output_type": "stream",
     "text": [
      "INFO:tensorflow:Saver not created because there are no variables in the graph to restore\n"
     ]
    },
    {
     "name": "stdout",
     "output_type": "stream",
     "text": [
      "Thus, they keep a quick watch on the people at night.\n",
      "INFO:tensorflow:Saver not created because there are no variables in the graph to restore\n"
     ]
    },
    {
     "name": "stderr",
     "output_type": "stream",
     "text": [
      "INFO:tensorflow:Saver not created because there are no variables in the graph to restore\n"
     ]
    },
    {
     "name": "stdout",
     "output_type": "stream",
     "text": [
      "Many military and police workers use trained dogs for catching thieves and criminals.\n",
      "INFO:tensorflow:Saver not created because there are no variables in the graph to restore\n"
     ]
    },
    {
     "name": "stderr",
     "output_type": "stream",
     "text": [
      "INFO:tensorflow:Saver not created because there are no variables in the graph to restore\n"
     ]
    },
    {
     "name": "stdout",
     "output_type": "stream",
     "text": [
      "The smelling power of dogs is mighty and strong.\n",
      "INFO:tensorflow:Saver not created because there are no variables in the graph to restore\n"
     ]
    },
    {
     "name": "stderr",
     "output_type": "stream",
     "text": [
      "INFO:tensorflow:Saver not created because there are no variables in the graph to restore\n"
     ]
    },
    {
     "name": "stdout",
     "output_type": "stream",
     "text": [
      "Thus, they can sense things from far after they smell them once.\n",
      "INFO:tensorflow:Saver not created because there are no variables in the graph to restore\n"
     ]
    },
    {
     "name": "stderr",
     "output_type": "stream",
     "text": [
      "INFO:tensorflow:Saver not created because there are no variables in the graph to restore\n"
     ]
    },
    {
     "name": "stdout",
     "output_type": "stream",
     "text": [
      "Dogs consist of very friendly and over protecting nature.\n",
      "INFO:tensorflow:Saver not created because there are no variables in the graph to restore\n"
     ]
    },
    {
     "name": "stderr",
     "output_type": "stream",
     "text": [
      "INFO:tensorflow:Saver not created because there are no variables in the graph to restore\n"
     ]
    }
   ],
   "source": [
    "elmo_embeddings_1=[]\n",
    "print (len(corpus1))\n",
    "for i in range(len(corpus1)):\n",
    "    print (corpus1[i])\n",
    "    elmo_embeddings_1.append(elmo_vectors([corpus1[i]])[0])\n",
    "    "
   ]
  },
  {
   "cell_type": "code",
   "execution_count": 12,
   "id": "9b83df36",
   "metadata": {},
   "outputs": [
    {
     "name": "stdout",
     "output_type": "stream",
     "text": [
      "16\n",
      "A cat is a domestic animal but there are wild cats too.\n",
      "INFO:tensorflow:Saver not created because there are no variables in the graph to restore\n"
     ]
    },
    {
     "name": "stderr",
     "output_type": "stream",
     "text": [
      "INFO:tensorflow:Saver not created because there are no variables in the graph to restore\n"
     ]
    },
    {
     "name": "stdout",
     "output_type": "stream",
     "text": [
      "Cats are found in various colours.\n",
      "INFO:tensorflow:Saver not created because there are no variables in the graph to restore\n"
     ]
    },
    {
     "name": "stderr",
     "output_type": "stream",
     "text": [
      "INFO:tensorflow:Saver not created because there are no variables in the graph to restore\n"
     ]
    },
    {
     "name": "stdout",
     "output_type": "stream",
     "text": [
      "The eyes of the cat which are of gray colour shine at night.\n",
      "INFO:tensorflow:Saver not created because there are no variables in the graph to restore\n"
     ]
    },
    {
     "name": "stderr",
     "output_type": "stream",
     "text": [
      "INFO:tensorflow:Saver not created because there are no variables in the graph to restore\n"
     ]
    },
    {
     "name": "stdout",
     "output_type": "stream",
     "text": [
      "A cat has sharp claws.\n",
      "INFO:tensorflow:Saver not created because there are no variables in the graph to restore\n"
     ]
    },
    {
     "name": "stderr",
     "output_type": "stream",
     "text": [
      "INFO:tensorflow:Saver not created because there are no variables in the graph to restore\n"
     ]
    },
    {
     "name": "stdout",
     "output_type": "stream",
     "text": [
      "The food of the cat is rats, pigeons and birds.\n",
      "INFO:tensorflow:Saver not created because there are no variables in the graph to restore\n"
     ]
    },
    {
     "name": "stderr",
     "output_type": "stream",
     "text": [
      "INFO:tensorflow:Saver not created because there are no variables in the graph to restore\n"
     ]
    },
    {
     "name": "stdout",
     "output_type": "stream",
     "text": [
      "She is fond of milk.\n",
      "INFO:tensorflow:Saver not created because there are no variables in the graph to restore\n"
     ]
    },
    {
     "name": "stderr",
     "output_type": "stream",
     "text": [
      "INFO:tensorflow:Saver not created because there are no variables in the graph to restore\n"
     ]
    },
    {
     "name": "stdout",
     "output_type": "stream",
     "text": [
      "It can climb up a tree and can jump from one roof to the other.\n",
      "INFO:tensorflow:Saver not created because there are no variables in the graph to restore\n"
     ]
    },
    {
     "name": "stderr",
     "output_type": "stream",
     "text": [
      "INFO:tensorflow:Saver not created because there are no variables in the graph to restore\n"
     ]
    },
    {
     "name": "stdout",
     "output_type": "stream",
     "text": [
      "When she mews the rats run away, and she also kills them.\n",
      "INFO:tensorflow:Saver not created because there are no variables in the graph to restore\n"
     ]
    },
    {
     "name": "stderr",
     "output_type": "stream",
     "text": [
      "INFO:tensorflow:Saver not created because there are no variables in the graph to restore\n"
     ]
    },
    {
     "name": "stdout",
     "output_type": "stream",
     "text": [
      "In this way she keeps rats away from our house.\n",
      "INFO:tensorflow:Saver not created because there are no variables in the graph to restore\n"
     ]
    },
    {
     "name": "stderr",
     "output_type": "stream",
     "text": [
      "INFO:tensorflow:Saver not created because there are no variables in the graph to restore\n"
     ]
    },
    {
     "name": "stdout",
     "output_type": "stream",
     "text": [
      "She has soft fur.\n",
      "INFO:tensorflow:Saver not created because there are no variables in the graph to restore\n"
     ]
    },
    {
     "name": "stderr",
     "output_type": "stream",
     "text": [
      "INFO:tensorflow:Saver not created because there are no variables in the graph to restore\n"
     ]
    },
    {
     "name": "stdout",
     "output_type": "stream",
     "text": [
      "She gives birth to kittens once in a year.\n",
      "INFO:tensorflow:Saver not created because there are no variables in the graph to restore\n"
     ]
    },
    {
     "name": "stderr",
     "output_type": "stream",
     "text": [
      "INFO:tensorflow:Saver not created because there are no variables in the graph to restore\n"
     ]
    },
    {
     "name": "stdout",
     "output_type": "stream",
     "text": [
      "She is very afraid of dogs.Cat is a wonderful domestic animal.\n",
      "INFO:tensorflow:Saver not created because there are no variables in the graph to restore\n"
     ]
    },
    {
     "name": "stderr",
     "output_type": "stream",
     "text": [
      "INFO:tensorflow:Saver not created because there are no variables in the graph to restore\n"
     ]
    },
    {
     "name": "stdout",
     "output_type": "stream",
     "text": [
      "She is playful also.\n",
      "INFO:tensorflow:Saver not created because there are no variables in the graph to restore\n"
     ]
    },
    {
     "name": "stderr",
     "output_type": "stream",
     "text": [
      "INFO:tensorflow:Saver not created because there are no variables in the graph to restore\n"
     ]
    },
    {
     "name": "stdout",
     "output_type": "stream",
     "text": [
      "But whenever she is put in trouble she becomes very dangerous.\n",
      "INFO:tensorflow:Saver not created because there are no variables in the graph to restore\n"
     ]
    },
    {
     "name": "stderr",
     "output_type": "stream",
     "text": [
      "INFO:tensorflow:Saver not created because there are no variables in the graph to restore\n"
     ]
    },
    {
     "name": "stdout",
     "output_type": "stream",
     "text": [
      "It attacks even a man and kills him.\n",
      "INFO:tensorflow:Saver not created because there are no variables in the graph to restore\n"
     ]
    },
    {
     "name": "stderr",
     "output_type": "stream",
     "text": [
      "INFO:tensorflow:Saver not created because there are no variables in the graph to restore\n"
     ]
    },
    {
     "name": "stdout",
     "output_type": "stream",
     "text": [
      "But on the whole we can say that a cat is a loving animal.\n",
      "INFO:tensorflow:Saver not created because there are no variables in the graph to restore\n"
     ]
    },
    {
     "name": "stderr",
     "output_type": "stream",
     "text": [
      "INFO:tensorflow:Saver not created because there are no variables in the graph to restore\n"
     ]
    }
   ],
   "source": [
    "elmo_embeddings_2=[]\n",
    "print (len(corpus2))\n",
    "for i in range(len(corpus2)):\n",
    "    print (corpus2[i])\n",
    "    elmo_embeddings_2.append(elmo_vectors([corpus2[i]])[0])\n",
    "    "
   ]
  },
  {
   "cell_type": "code",
   "execution_count": 28,
   "id": "be400516",
   "metadata": {},
   "outputs": [
    {
     "name": "stdout",
     "output_type": "stream",
     "text": [
      "[[0.6812593  0.49600163 0.5441379  0.5563582  0.70233244 0.4772585\n",
      "  0.44090742 0.52220035 0.59079576 0.456478   0.47766858 0.6328403\n",
      "  0.4909948  0.46614927 0.48171198 0.703038  ]\n",
      " [0.5109861  0.5809241  0.516414   0.53395784 0.5246214  0.3817649\n",
      "  0.561344   0.48491862 0.49380034 0.38599798 0.47691652 0.39441317\n",
      "  0.40619898 0.38631356 0.41516778 0.4809588 ]\n",
      " [0.56808037 0.56383836 0.67185575 0.62937593 0.57876104 0.5591415\n",
      "  0.5329185  0.6202036  0.6182269  0.6429193  0.56573445 0.60027075\n",
      "  0.61927193 0.54097944 0.5119659  0.6392692 ]\n",
      " [0.59326136 0.514584   0.6192442  0.655955   0.6298376  0.4776499\n",
      "  0.5384286  0.5533481  0.5751854  0.5064148  0.49950355 0.57568866\n",
      "  0.57693136 0.518585   0.49262005 0.6743642 ]\n",
      " [0.55859274 0.57881105 0.48140413 0.5458869  0.5177998  0.4201595\n",
      "  0.54015183 0.5565078  0.5309353  0.45056057 0.4512861  0.5091311\n",
      "  0.47460777 0.5204614  0.4298404  0.56322354]\n",
      " [0.39998418 0.4161125  0.42966333 0.42048985 0.45377272 0.53083646\n",
      "  0.47990417 0.61477125 0.5857253  0.525435   0.49497893 0.5304225\n",
      "  0.5633814  0.5406534  0.52576435 0.5918223 ]\n",
      " [0.48395067 0.45879093 0.41893122 0.4480101  0.6106868  0.4715734\n",
      "  0.41855955 0.47553533 0.45192435 0.47009668 0.44115523 0.47773606\n",
      "  0.41968593 0.3425151  0.38098752 0.48283753]\n",
      " [0.55872476 0.49845624 0.49169382 0.4929146  0.6556131  0.55685717\n",
      "  0.38933036 0.568858   0.5828568  0.52144825 0.4778303  0.613207\n",
      "  0.4824588  0.4612597  0.4824344  0.6384233 ]\n",
      " [0.65626734 0.64564157 0.485524   0.5894016  0.635713   0.45967454\n",
      "  0.37721074 0.47227386 0.5141902  0.46087593 0.44512486 0.5655593\n",
      "  0.5189112  0.3953212  0.3931291  0.5603898 ]\n",
      " [0.48197243 0.42576683 0.5509565  0.46360976 0.5055721  0.46030927\n",
      "  0.46890372 0.6258767  0.653334   0.47390202 0.5151765  0.54831445\n",
      "  0.52287334 0.51197237 0.53613955 0.5991098 ]\n",
      " [0.526178   0.48362964 0.4053648  0.44927555 0.53058857 0.3624951\n",
      "  0.34138754 0.47675282 0.51298606 0.3903662  0.37960857 0.46132964\n",
      "  0.3934185  0.41348946 0.47610462 0.48561034]\n",
      " [0.61386925 0.53232896 0.580043   0.6161804  0.7094204  0.5459741\n",
      "  0.4510938  0.57663417 0.6011868  0.5356924  0.45866773 0.62845844\n",
      "  0.5703807  0.51848257 0.49494326 0.6552631 ]\n",
      " [0.46717247 0.46252665 0.55235624 0.44962877 0.5341866  0.5523138\n",
      "  0.52989715 0.6701728  0.6284667  0.51100165 0.5229835  0.53764415\n",
      "  0.54978704 0.55780673 0.5432679  0.6320834 ]\n",
      " [0.5622714  0.6035883  0.48522842 0.4911684  0.54438806 0.4598586\n",
      "  0.45100364 0.51576805 0.56139785 0.44456828 0.46093705 0.5509198\n",
      "  0.4869357  0.49538517 0.46383098 0.5875116 ]]\n"
     ]
    }
   ],
   "source": [
    "print(cosine_similarity(elmo_embeddings_1, elmo_embeddings_2))"
   ]
  },
  {
   "cell_type": "code",
   "execution_count": 14,
   "id": "b10a1fec",
   "metadata": {},
   "outputs": [
    {
     "data": {
      "text/plain": [
       "14"
      ]
     },
     "execution_count": 14,
     "metadata": {},
     "output_type": "execute_result"
    }
   ],
   "source": [
    "len(corpus1)"
   ]
  },
  {
   "cell_type": "code",
   "execution_count": 15,
   "id": "bc626f65",
   "metadata": {},
   "outputs": [
    {
     "data": {
      "text/plain": [
       "16"
      ]
     },
     "execution_count": 15,
     "metadata": {},
     "output_type": "execute_result"
    }
   ],
   "source": [
    "len(corpus2)"
   ]
  },
  {
   "cell_type": "code",
   "execution_count": 31,
   "id": "fa8caf2d",
   "metadata": {},
   "outputs": [],
   "source": [
    "\n",
    "sim=np.array(cosine_similarity(elmo_embeddings_1, elmo_embeddings_2))\n",
    "                   "
   ]
  },
  {
   "cell_type": "code",
   "execution_count": 32,
   "id": "9b2e1e4d",
   "metadata": {},
   "outputs": [],
   "source": [
    "max_sim=[]\n",
    "\n",
    "for i in range(len(corpus1)):\n",
    "    similar_ix=np.argsort(sim[i])[::-1]\n",
    "    max=sim[i][similar_ix[0]]\n",
    "    max_sim.append(max)\n",
    "    \n"
   ]
  },
  {
   "cell_type": "code",
   "execution_count": 33,
   "id": "e1c6cc40",
   "metadata": {},
   "outputs": [
    {
     "name": "stdout",
     "output_type": "stream",
     "text": [
      "[0.703038, 0.5809241, 0.67185575, 0.6743642, 0.57881105, 0.61477125, 0.6106868, 0.6556131, 0.65626734, 0.653334, 0.53058857, 0.7094204, 0.6701728, 0.6035883]\n"
     ]
    }
   ],
   "source": [
    "print(max_sim)\n"
   ]
  },
  {
   "cell_type": "code",
   "execution_count": 34,
   "id": "0776cfec",
   "metadata": {},
   "outputs": [
    {
     "name": "stdout",
     "output_type": "stream",
     "text": [
      "Final Similarity: 0.6366739273071289\n",
      "Similarity % =  63.66739273071289 %\n"
     ]
    }
   ],
   "source": [
    "total_sim=np.sum(max_sim,dtype=np.float32)\n",
    "print(\"Final Similarity:\", total_sim/len(corpus1))\n",
    "print (\"Similarity % = \", 100*total_sim/len(corpus1), \"%\")"
   ]
  },
  {
   "cell_type": "code",
   "execution_count": null,
   "id": "99525839",
   "metadata": {},
   "outputs": [],
   "source": []
  }
 ],
 "metadata": {
  "kernelspec": {
   "display_name": "Python 3",
   "language": "python",
   "name": "python3"
  },
  "language_info": {
   "codemirror_mode": {
    "name": "ipython",
    "version": 3
   },
   "file_extension": ".py",
   "mimetype": "text/x-python",
   "name": "python",
   "nbconvert_exporter": "python",
   "pygments_lexer": "ipython3",
   "version": "3.7.10"
  }
 },
 "nbformat": 4,
 "nbformat_minor": 5
}
