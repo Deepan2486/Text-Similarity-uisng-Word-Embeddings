{
 "cells": [
  {
   "cell_type": "code",
   "execution_count": 1,
   "id": "d6d91ca5",
   "metadata": {},
   "outputs": [
    {
     "data": {
      "application/vnd.jupyter.widget-view+json": {
       "model_id": "44e5c37864f84f00bd16734a4845f711",
       "version_major": 2,
       "version_minor": 0
      },
      "text/plain": [
       "  0%|          | 0.00/405M [00:00<?, ?B/s]"
      ]
     },
     "metadata": {},
     "output_type": "display_data"
    },
    {
     "name": "stderr",
     "output_type": "stream",
     "text": [
      "Some weights of the model checkpoint at C:\\Users\\HP/.cache\\torch\\sentence_transformers\\sbert.net_models_bert-base-nli-mean-tokens\\0_BERT were not used when initializing BertModel: ['classifier.bias', 'classifier.weight']\n",
      "- This IS expected if you are initializing BertModel from the checkpoint of a model trained on another task or with another architecture (e.g. initializing a BertForSequenceClassification model from a BertForPreTraining model).\n",
      "- This IS NOT expected if you are initializing BertModel from the checkpoint of a model that you expect to be exactly identical (initializing a BertForSequenceClassification model from a BertForSequenceClassification model).\n"
     ]
    }
   ],
   "source": [
    "from sentence_transformers import SentenceTransformer\n",
    "model = SentenceTransformer('bert-base-nli-mean-tokens')"
   ]
  },
  {
   "cell_type": "code",
   "execution_count": 2,
   "id": "848ceedf",
   "metadata": {},
   "outputs": [],
   "source": [
    "from nltk.tokenize import word_tokenize\n",
    "from nltk.tokenize import sent_tokenize\n",
    "import pandas as pd\n",
    "import numpy as np"
   ]
  },
  {
   "cell_type": "code",
   "execution_count": 11,
   "id": "f40db0a1",
   "metadata": {},
   "outputs": [],
   "source": [
    "from sklearn.metrics.pairwise import cosine_similarity"
   ]
  },
  {
   "cell_type": "code",
   "execution_count": 17,
   "id": "8a9f0ca3",
   "metadata": {},
   "outputs": [],
   "source": [
    "import numpy as np"
   ]
  },
  {
   "cell_type": "code",
   "execution_count": 3,
   "id": "6d25cde4",
   "metadata": {},
   "outputs": [],
   "source": [
    "corpus1 = []\n",
    "\n",
    "with open ('doc1.txt') as f:\n",
    "    tokens = sent_tokenize(f.read())\n",
    "    for line in tokens:\n",
    "        corpus1.append(line)"
   ]
  },
  {
   "cell_type": "code",
   "execution_count": 4,
   "id": "f4c2f804",
   "metadata": {},
   "outputs": [],
   "source": [
    "corpus2 = []\n",
    "\n",
    "with open ('doc2.txt') as f:\n",
    "    tokens = sent_tokenize(f.read())\n",
    "    for line in tokens:\n",
    "        corpus2.append(line)"
   ]
  },
  {
   "cell_type": "code",
   "execution_count": 5,
   "id": "ee5daa97",
   "metadata": {},
   "outputs": [
    {
     "data": {
      "text/plain": [
       "['One of the most faithful and helpful animals on the earth is a dog.',\n",
       " 'Dogs consist of four feet for running and jumping.',\n",
       " 'They have two eyes, ears, and one tail, which makes them look beautiful.',\n",
       " 'The stunning look of a dog also consists of one major part that is sharp teeth.',\n",
       " 'Dogs can run very fast.',\n",
       " 'Thus, they can help you to exercise more.',\n",
       " 'They can eat large amounts of meat, milk, green vegetables, fruits, rice, fish, and many other things.',\n",
       " 'Yet, all the sweet items are harmful to the health of dogs.',\n",
       " 'Dogs are knowledgeable pets.',\n",
       " 'Thus, they keep a quick watch on the people at night.',\n",
       " 'Many military and police workers use trained dogs for catching thieves and criminals.',\n",
       " 'The smelling power of dogs is mighty and strong.',\n",
       " 'Thus, they can sense things from far after they smell them once.',\n",
       " 'Dogs consist of very friendly and over protecting nature.']"
      ]
     },
     "execution_count": 5,
     "metadata": {},
     "output_type": "execute_result"
    }
   ],
   "source": [
    "corpus1\n",
    "\n"
   ]
  },
  {
   "cell_type": "code",
   "execution_count": 6,
   "id": "ac8c126d",
   "metadata": {},
   "outputs": [
    {
     "data": {
      "text/plain": [
       "['A cat is a domestic animal but there are wild cats too.',\n",
       " 'Cats are found in various colours.',\n",
       " 'The eyes of the cat which are of gray colour shine at night.',\n",
       " 'A cat has sharp claws.',\n",
       " 'The food of the cat is rats, pigeons and birds.',\n",
       " 'She is fond of milk.',\n",
       " 'It can climb up a tree and can jump from one roof to the other.',\n",
       " 'When she mews the rats run away, and she also kills them.',\n",
       " 'In this way she keeps rats away from our house.',\n",
       " 'She has soft fur.',\n",
       " 'She gives birth to kittens once in a year.',\n",
       " 'She is very afraid of dogs.Cat is a wonderful domestic animal.',\n",
       " 'She is playful also.',\n",
       " 'But whenever she is put in trouble she becomes very dangerous.',\n",
       " 'It attacks even a man and kills him.',\n",
       " 'But on the whole we can say that a cat is a loving animal.']"
      ]
     },
     "execution_count": 6,
     "metadata": {},
     "output_type": "execute_result"
    }
   ],
   "source": [
    "corpus2"
   ]
  },
  {
   "cell_type": "code",
   "execution_count": 7,
   "id": "4d517ac9",
   "metadata": {},
   "outputs": [],
   "source": [
    "embeddings1 = model.encode(corpus1)"
   ]
  },
  {
   "cell_type": "code",
   "execution_count": 8,
   "id": "7d71232f",
   "metadata": {},
   "outputs": [],
   "source": [
    "embeddings2 = model.encode(corpus2)"
   ]
  },
  {
   "cell_type": "code",
   "execution_count": 9,
   "id": "cedba995",
   "metadata": {},
   "outputs": [
    {
     "data": {
      "text/plain": [
       "(14, 768)"
      ]
     },
     "execution_count": 9,
     "metadata": {},
     "output_type": "execute_result"
    }
   ],
   "source": [
    "embeddings1.shape"
   ]
  },
  {
   "cell_type": "code",
   "execution_count": 10,
   "id": "f49fb635",
   "metadata": {},
   "outputs": [
    {
     "data": {
      "text/plain": [
       "(16, 768)"
      ]
     },
     "execution_count": 10,
     "metadata": {},
     "output_type": "execute_result"
    }
   ],
   "source": [
    "embeddings2.shape"
   ]
  },
  {
   "cell_type": "code",
   "execution_count": 12,
   "id": "7ca40b1e",
   "metadata": {},
   "outputs": [
    {
     "name": "stdout",
     "output_type": "stream",
     "text": [
      "[[ 0.25804445  0.05710211  0.10232208  0.14112741  0.17899208  0.39569274\n",
      "   0.23765893  0.05661049  0.17473923  0.44789633  0.05162847  0.44399393\n",
      "   0.43941212  0.2631153   0.12604882  0.53712344]\n",
      " [ 0.15741374  0.23821107  0.11463992  0.22106344  0.1871856   0.12857881\n",
      "   0.48681623  0.12058294  0.037908    0.26512635  0.10669443  0.1453682\n",
      "   0.18182766  0.17223951  0.19878063  0.07714837]\n",
      " [ 0.3203475   0.25439584  0.30865103  0.3012556   0.31003314  0.4809491\n",
      "   0.3104521   0.13497794  0.15933558  0.62090755  0.11039338  0.29595003\n",
      "   0.57946306  0.23101264  0.07268688  0.5653902 ]\n",
      " [ 0.3291371   0.24716172  0.23168623  0.36880478  0.2788081   0.43427765\n",
      "   0.18071455  0.24239871  0.22266844  0.39143717  0.01440739  0.39385825\n",
      "   0.42002463  0.39607707  0.2840696   0.35409945]\n",
      " [ 0.11772734  0.22266075  0.12141823  0.22402751  0.16968983  0.3558378\n",
      "   0.4028344   0.20221964  0.08023213  0.34983662 -0.01454132  0.22832848\n",
      "   0.49317223  0.4866295   0.3127105   0.2787124 ]\n",
      " [ 0.07200161  0.13741086  0.02914517  0.11824352  0.05528516  0.4860041\n",
      "   0.30126277  0.02268122  0.15675534  0.35983208 -0.02034885  0.02879027\n",
      "   0.65118647  0.38689807  0.1311377   0.35255867]\n",
      " [ 0.19955958  0.18603553  0.03946456  0.14194079  0.2749842   0.45448405\n",
      "   0.29856956  0.17395604  0.04021988  0.2012336   0.03164349  0.11854552\n",
      "   0.30834824  0.21312302  0.295758    0.19543165]\n",
      " [ 0.36163518  0.15079993  0.25163624  0.2308875   0.33711535  0.35799962\n",
      "  -0.02495907  0.6150506   0.5164881   0.1641255   0.12396708  0.68061054\n",
      "   0.24340862  0.5322753   0.52964926  0.3482206 ]\n",
      " [ 0.33100164  0.21363534  0.19982499  0.3160992   0.2492652   0.43364152\n",
      "   0.27902004  0.08206363  0.20760058  0.5552011   0.01252836  0.41448048\n",
      "   0.5920797   0.38575348  0.10453337  0.55832225]\n",
      " [ 0.321019    0.26774442  0.4581222   0.29568368  0.34816262  0.15717009\n",
      "   0.27545148  0.23541531  0.4804162   0.2070672   0.16000469  0.2690063\n",
      "   0.3622195   0.4098899   0.19548835  0.35303304]\n",
      " [ 0.4014646   0.11118897  0.13809231  0.14228007  0.34948856  0.16654234\n",
      "   0.24597901  0.36076564  0.36104435  0.08073833  0.13007163  0.3166939\n",
      "   0.20837852  0.3752877   0.32516956  0.1426882 ]\n",
      " [ 0.212894    0.18865843  0.14354563  0.22114903  0.20993167  0.4077942\n",
      "   0.31501412  0.18257637  0.1469675   0.35830808 -0.04237754  0.34679598\n",
      "   0.4097789   0.44447023  0.31847548  0.3834868 ]\n",
      " [ 0.19325042  0.26294798  0.2326038   0.22969532  0.23881361  0.4352126\n",
      "   0.35208607  0.20977807  0.26946443  0.2740673   0.12008095  0.15197912\n",
      "   0.44462895  0.43512207  0.26691735  0.36891207]\n",
      " [ 0.29642746  0.08046077  0.13764046  0.1537354   0.15878762  0.36604622\n",
      "   0.25978568  0.01586584  0.26699266  0.5689062  -0.0426242   0.43707365\n",
      "   0.4687931   0.26308927  0.02479569  0.519214  ]]\n"
     ]
    }
   ],
   "source": [
    "print(cosine_similarity(embeddings1,embeddings2))"
   ]
  },
  {
   "cell_type": "code",
   "execution_count": 14,
   "id": "2428b27e",
   "metadata": {},
   "outputs": [],
   "source": [
    "sim=np.array(cosine_similarity(embeddings1,embeddings2))\n"
   ]
  },
  {
   "cell_type": "code",
   "execution_count": 25,
   "id": "bb9d4028",
   "metadata": {},
   "outputs": [],
   "source": [
    "max_sim=[]\n",
    "\n",
    "for i in range(len(corpus1)):\n",
    "    similar_ix=np.argsort(sim[i])[::-1]\n",
    "    max=sim[i][similar_ix[0]]\n",
    "    max_sim.append(max)\n",
    "    \n"
   ]
  },
  {
   "cell_type": "code",
   "execution_count": 26,
   "id": "0b922b91",
   "metadata": {},
   "outputs": [
    {
     "data": {
      "text/plain": [
       "[0.53712344,\n",
       " 0.48681623,\n",
       " 0.62090755,\n",
       " 0.43427765,\n",
       " 0.49317223,\n",
       " 0.65118647,\n",
       " 0.45448405,\n",
       " 0.68061054,\n",
       " 0.5920797,\n",
       " 0.4804162,\n",
       " 0.4014646,\n",
       " 0.44447023,\n",
       " 0.44462895,\n",
       " 0.5689062]"
      ]
     },
     "execution_count": 26,
     "metadata": {},
     "output_type": "execute_result"
    }
   ],
   "source": [
    "max_sim"
   ]
  },
  {
   "cell_type": "code",
   "execution_count": 29,
   "id": "c7dea2d7",
   "metadata": {},
   "outputs": [],
   "source": [
    "total_sim=np.sum(max_sim,dtype=np.float32)\n"
   ]
  },
  {
   "cell_type": "code",
   "execution_count": 32,
   "id": "b87c11b4",
   "metadata": {},
   "outputs": [
    {
     "name": "stdout",
     "output_type": "stream",
     "text": [
      "Final Similarity: 0.5207531452178955\n",
      "Similarity % =  52.07531452178955 %\n"
     ]
    }
   ],
   "source": [
    "print(\"Final Similarity:\", total_sim/len(corpus1))\n",
    "print (\"Similarity % = \", 100*total_sim/len(corpus1), \"%\")"
   ]
  },
  {
   "cell_type": "code",
   "execution_count": null,
   "id": "fc8866ee",
   "metadata": {},
   "outputs": [],
   "source": []
  }
 ],
 "metadata": {
  "kernelspec": {
   "display_name": "Python 3",
   "language": "python",
   "name": "python3"
  },
  "language_info": {
   "codemirror_mode": {
    "name": "ipython",
    "version": 3
   },
   "file_extension": ".py",
   "mimetype": "text/x-python",
   "name": "python",
   "nbconvert_exporter": "python",
   "pygments_lexer": "ipython3",
   "version": "3.7.10"
  }
 },
 "nbformat": 4,
 "nbformat_minor": 5
}
